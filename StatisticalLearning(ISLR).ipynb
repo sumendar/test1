{
 "cells": [
  {
   "cell_type": "code",
   "execution_count": 1,
   "metadata": {
    "cell_style": "center",
    "collapsed": false,
    "hide_input": false,
    "run_control": {
     "frozen": true,
     "read_only": true
    },
    "scrolled": true,
    "slideshow": {
     "slide_type": "slide"
    }
   },
   "outputs": [
    {
     "data": {
      "text/html": [
       "<iframe width=\"560\" height=\"315\" src=\"https://www.youtube.com/embed/3jQs02dbfrI?list=PL06ytJZ4Ak1rXmlvxTyAdOEfiVEzH00IK\" frameborder=\"0\" allowfullscreen></iframe>"
      ],
      "text/plain": [
       "<IPython.core.display.HTML object>"
      ]
     },
     "execution_count": 1,
     "metadata": {},
     "output_type": "execute_result"
    }
   ],
   "source": [
    "from IPython.display import HTML\n",
    "# Youtube\n",
    "HTML('<iframe width=\"560\" height=\"315\" src=\"https://www.youtube.com/embed/3jQs02dbfrI?list=PL06ytJZ4Ak1rXmlvxTyAdOEfiVEzH00IK\" frameborder=\"0\" allowfullscreen></iframe>')"
   ]
  },
  {
   "cell_type": "code",
   "execution_count": 13,
   "metadata": {
    "cell_style": "center",
    "collapsed": false,
    "hide_input": false,
    "run_control": {
     "frozen": true,
     "read_only": true
    },
    "scrolled": true,
    "slideshow": {
     "slide_type": "subslide"
    }
   },
   "outputs": [
    {
     "data": {
      "text/html": [
       "<iframe width=\"560\" height=\"315\" src=\"https://www.youtube.com/embed/2wLfFB_6SKI?list=PLm74Kp-nrJ2IRrD0v803ur0HwI6x4wAVV\" frameborder=\"0\" allowfullscreen></iframe>"
      ],
      "text/plain": [
       "<IPython.core.display.HTML object>"
      ]
     },
     "execution_count": 13,
     "metadata": {},
     "output_type": "execute_result"
    }
   ],
   "source": [
    "from IPython.display import HTML\n",
    "# Youtube\n",
    "HTML('<iframe width=\"560\" height=\"315\" src=\"https://www.youtube.com/embed/2wLfFB_6SKI?list=PLm74Kp-nrJ2IRrD0v803ur0HwI6x4wAVV\" frameborder=\"0\" allowfullscreen></iframe>')"
   ]
  },
  {
   "cell_type": "code",
   "execution_count": 12,
   "metadata": {
    "cell_style": "center",
    "collapsed": false,
    "hide_input": false,
    "run_control": {
     "frozen": true,
     "read_only": true
    },
    "scrolled": false,
    "slideshow": {
     "slide_type": "slide"
    }
   },
   "outputs": [
    {
     "data": {
      "text/html": [
       "<iframe src=\"https://drive.google.com/file/d/0B14DjwBCvz91Sm56QWNnY3U0M2M/preview\" width=\"785\" height=\"350\"></iframe>"
      ],
      "text/plain": [
       "<IPython.core.display.HTML object>"
      ]
     },
     "execution_count": 12,
     "metadata": {},
     "output_type": "execute_result"
    }
   ],
   "source": [
    "#embed Document from Google Drive\n",
    "from IPython.display import HTML\n",
    "# Youtube\n",
    "HTML('<iframe src=\"https://drive.google.com/file/d/0B14DjwBCvz91Sm56QWNnY3U0M2M/preview\" width=\"785\" height=\"350\"></iframe>')"
   ]
  },
  {
   "cell_type": "code",
   "execution_count": 1,
   "metadata": {
    "collapsed": false,
    "run_control": {
     "frozen": false,
     "read_only": false
    },
    "scrolled": true,
    "slideshow": {
     "slide_type": "slide"
    }
   },
   "outputs": [
    {
     "name": "stdout",
     "output_type": "stream",
     "text": [
      "[1] 1 3 2 5\n"
     ]
    }
   ],
   "source": [
    "x <- c(1,3,2,5)\n",
    "print(x)"
   ]
  },
  {
   "cell_type": "code",
   "execution_count": 2,
   "metadata": {
    "collapsed": false,
    "run_control": {
     "frozen": false,
     "read_only": false
    },
    "slideshow": {
     "slide_type": "slide"
    }
   },
   "outputs": [
    {
     "data": {
      "text/html": [
       "<dl>\n",
       "\t<dt>$a</dt>\n",
       "\t\t<dd><strong>a:</strong> -0.285852046497167</dd>\n",
       "\t<dt>$b</dt>\n",
       "\t\t<dd><strong>b:</strong> 1.14239064385183</dd>\n",
       "</dl>\n"
      ],
      "text/latex": [
       "\\begin{description}\n",
       "\\item[\\$a] \\textbf{a:} -0.285852046497167\n",
       "\\item[\\$b] \\textbf{b:} 1.14239064385183\n",
       "\\end{description}\n"
      ],
      "text/markdown": [
       "$a\n",
       ":   **a:** -0.285852046497167\n",
       "$b\n",
       ":   **b:** 1.14239064385183\n",
       "\n",
       "\n"
      ],
      "text/plain": [
       "$a\n",
       "        a \n",
       "-0.285852 \n",
       "\n",
       "$b\n",
       "       b \n",
       "1.142391 \n"
      ]
     },
     "metadata": {},
     "output_type": "display_data"
    }
   ],
   "source": [
    "library(vecpack)\n",
    " \n",
    "#A cost function in two arguments:\n",
    "cost <- function(a,b)  (3*a-b+2)^2\n",
    " \n",
    "#Call optim via vpoptim\n",
    "res <- vpoptim(list(a=1,b=0),cost)\n",
    "res$par"
   ]
  },
  {
   "cell_type": "code",
   "execution_count": 3,
   "metadata": {
    "collapsed": false,
    "run_control": {
     "frozen": false,
     "read_only": false
    },
    "slideshow": {
     "slide_type": "subslide"
    }
   },
   "outputs": [
    {
     "name": "stdout",
     "output_type": "stream",
     "text": [
      "[1] \"hai\"\n"
     ]
    }
   ],
   "source": [
    "print(\"hello\")"
   ]
  },
  {
   "cell_type": "code",
   "execution_count": null,
   "metadata": {
    "collapsed": true
   },
   "outputs": [],
   "source": []
  },
  {
   "cell_type": "code",
   "execution_count": null,
   "metadata": {
    "collapsed": true
   },
   "outputs": [],
   "source": []
  }
 ],
 "metadata": {
  "anaconda-cloud": {},
  "kernelspec": {
   "display_name": "R",
   "language": "R",
   "name": "ir"
  },
  "language_info": {
   "codemirror_mode": "r",
   "file_extension": ".r",
   "mimetype": "text/x-r-source",
   "name": "R",
   "pygments_lexer": "r",
   "version": "3.3.1"
  }
 },
 "nbformat": 4,
 "nbformat_minor": 0
}
